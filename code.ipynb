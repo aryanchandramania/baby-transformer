{
 "cells": [
  {
   "cell_type": "code",
   "execution_count": 253,
   "metadata": {},
   "outputs": [
    {
     "data": {
      "text/plain": [
       "'\\nCoding up a transformer from scratch\\n'"
      ]
     },
     "execution_count": 253,
     "metadata": {},
     "output_type": "execute_result"
    }
   ],
   "source": [
    "\"\"\"\n",
    "Coding up a transformer from scratch\n",
    "\"\"\""
   ]
  },
  {
   "cell_type": "code",
   "execution_count": 1,
   "metadata": {},
   "outputs": [],
   "source": [
    "import torch\n",
    "import torch.nn as nn\n",
    "import torch.nn.functional as F\n",
    "import torchtext\n",
    "from tqdm import tqdm\n",
    "import math\n",
    "import re\n",
    "from torch.utils.data import Dataset, DataLoader\n",
    "from nltk.translate.bleu_score import sentence_bleu, SmoothingFunction"
   ]
  },
  {
   "cell_type": "code",
   "execution_count": 2,
   "metadata": {},
   "outputs": [],
   "source": [
    "def load_data(file_path):\n",
    "    with open(file_path, 'r', encoding='utf-8') as f:\n",
    "        data = f.read().splitlines()\n",
    "    return data\n",
    "\n",
    "train_en = load_data('train.en')\n",
    "train_fr = load_data('train.fr')\n",
    "test_en = load_data('test.en')\n",
    "test_fr = load_data('test.fr')\n",
    "dev_en = load_data('dev.en')\n",
    "dev_fr = load_data('dev.fr')\n",
    "train = list(zip(train_en, train_fr))\n",
    "test = list(zip(test_en, test_fr))\n",
    "dev = list(zip(dev_en, dev_fr))\n",
    "\n",
    "device = torch.device('cuda' if torch.cuda.is_available() else 'cpu')\n",
    "batch_size = 32"
   ]
  },
  {
   "cell_type": "code",
   "execution_count": 3,
   "metadata": {},
   "outputs": [],
   "source": [
    "\n",
    "# define the maximum sequence length\n",
    "max_seq_length = 128\n",
    "\n",
    "# define a function to preprocess the data\n",
    "def preprocess_data(data):\n",
    "    processed_data = []\n",
    "    for sentence in data:\n",
    "        # remove text within html tags\n",
    "        sentence = sentence.lower()\n",
    "        sentence = re.sub('<.*?>*<.*?>', '', sentence)\n",
    "        if sentence == '' or sentence == ' ':\n",
    "            continue\n",
    "        if len(sentence) > max_seq_length:\n",
    "            sentence = sentence[:max_seq_length]\n",
    "        processed_data.append(sentence)\n",
    "    return processed_data\n",
    "\n",
    "train_en = preprocess_data(train_en)\n",
    "train_fr = preprocess_data(train_fr)\n",
    "test_en = preprocess_data(test_en)\n",
    "test_fr = preprocess_data(test_fr)\n",
    "dev_en = preprocess_data(dev_en)\n",
    "dev_fr = preprocess_data(dev_fr)"
   ]
  },
  {
   "cell_type": "code",
   "execution_count": 4,
   "metadata": {},
   "outputs": [],
   "source": [
    "train_data = list(zip(train_en, train_fr))\n",
    "test_data = list(zip(test_en, test_fr))\n",
    "dev_data = list(zip(dev_en, dev_fr))"
   ]
  },
  {
   "cell_type": "code",
   "execution_count": 5,
   "metadata": {},
   "outputs": [],
   "source": [
    "from nltk.tokenize import word_tokenize\n",
    "\n",
    "# define a function to tokenize the data\n",
    "def tokenize_data(data, lang = 'english'):\n",
    "    tokenized_data = []\n",
    "    for sentence in data:\n",
    "        if sentence == '' or sentence == ' ' or sentence == '\\n':\n",
    "            continue\n",
    "        tokenized_data += word_tokenize(sentence, language = lang)\n",
    "    return tokenized_data\n",
    "\n",
    "train_tokens_en = tokenize_data(train_en)\n",
    "train_tokens_fr = tokenize_data(train_fr, lang = 'french')\n",
    "test_tokens_en = tokenize_data(test_en)\n",
    "test_tokens_fr = tokenize_data(test_fr, lang = 'french')\n",
    "dev_tokens_en = tokenize_data(dev_en)\n",
    "dev_tokens_fr = tokenize_data(dev_fr, lang = 'french')\n",
    "\n",
    "vocab_en = torchtext.vocab.build_vocab_from_iterator([train_tokens_en], min_freq=3, specials=['<unk>', '<pad>', '<start>', '<eos>'])\n",
    "vocab_en.set_default_index(vocab_en['<unk>'])\n",
    "vocab_fr = torchtext.vocab.build_vocab_from_iterator([train_tokens_fr], min_freq=3, specials=['<unk>', '<pad>', '<start>', '<eos>'])\n",
    "vocab_fr.set_default_index(vocab_fr['<unk>'])"
   ]
  },
  {
   "cell_type": "code",
   "execution_count": 28,
   "metadata": {},
   "outputs": [],
   "source": [
    "class MultiHeadAttention(nn.Module):\n",
    "    def __init__(self, d_model, n_heads):\n",
    "        super(MultiHeadAttention, self).__init__()\n",
    "        self.d_model = d_model\n",
    "        self.n_heads = n_heads\n",
    "        self.head_dim = d_model // n_heads\n",
    "        \n",
    "        self.query = nn.Linear(d_model, d_model)\n",
    "        self.key = nn.Linear(d_model, d_model)\n",
    "        self.value = nn.Linear(d_model, d_model)\n",
    "        self.fc = nn.Linear(d_model, d_model)\n",
    "        \n",
    "    def forward(self, query, key, value, mask=None):\n",
    "        batch_size = query.shape[0]\n",
    "        # print(f'query shape {query.shape}')\n",
    "        # Linear transformations\n",
    "        Q = self.query(query)\n",
    "        K = self.key(key)\n",
    "        V = self.value(value)\n",
    "        # print(f'Q shape {Q.shape}, K shape {K.shape}, V shape {V.shape}...')\n",
    "        \n",
    "        # Reshape Q, K, V\n",
    "        Q = Q.view(batch_size, -1, self.n_heads, self.head_dim).transpose(1, 2)\n",
    "        K = K.view(batch_size, -1, self.n_heads, self.head_dim).transpose(1, 2)\n",
    "        V = V.view(batch_size, -1, self.n_heads, self.head_dim).transpose(1, 2)\n",
    "        \n",
    "        # Compute scores\n",
    "        scores = torch.matmul(Q, K.transpose(-2, -1)) / math.sqrt(self.head_dim)\n",
    "        # print(f'Q shape {Q.shape}, K shape {K.shape}, V shape {V.shape}, scores shape {scores.shape} head_dim {self.head_dim}')\n",
    "        # Apply mask\n",
    "        if mask is not None:\n",
    "            # print('scores', scores)\n",
    "            scores = scores.masked_fill(mask != 0, -1e9)\n",
    "            # print('scores after masking', scores)\n",
    "        # print('mask', mask)\n",
    "        # print('scores', scores)\n",
    "        # Softmax\n",
    "        scaling_factor = torch.tensor(scores.shape[-1]).float().sqrt()\n",
    "        attention = torch.softmax(scores / scaling_factor, dim=-1)\n",
    "        # print('attention', attention)\n",
    "        \n",
    "        # Compute weighted sum\n",
    "        weighted_sum = torch.matmul(attention, V)\n",
    "        \n",
    "        # Reshape and apply final linear transformation\n",
    "        weighted_sum = weighted_sum.transpose(1, 2).contiguous().view(batch_size, -1, self.d_model)\n",
    "        output = self.fc(weighted_sum)\n",
    "        \n",
    "        return output.to(device)\n",
    "\n",
    "class Transformer(nn.Module):\n",
    "    def __init__(self, input_size, output_size, d_model=512, nhead=8, num_layers=2):\n",
    "        super(Transformer, self).__init__()\n",
    "        self.encoder = nn.ModuleList([EncoderLayer(d_model, nhead).to(device) for _ in range(num_layers)])\n",
    "        self.decoder = nn.ModuleList([DecoderLayer(d_model, nhead).to(device) for _ in range(num_layers)])\n",
    "        self.fc = nn.Linear(d_model, output_size).to(device)\n",
    "        self.src_embed = nn.Embedding(input_size, d_model).to(device)\n",
    "        self.tgt_embed = nn.Embedding(output_size, d_model).to(device)\n",
    "        self.pos_encoder = PositionalEncoding(d_model).to(device)\n",
    "        self.pos_decoder = PositionalEncoding(d_model).to(device)\n",
    "        self.d_model = d_model\n",
    "\n",
    "    def forward(self, src, tgt):\n",
    "        # src_mask = self.generate_square_subsequent_mask(src.size(0)).to(device)\n",
    "        tgt_mask = self.generate_square_subsequent_mask(tgt).to(device)\n",
    "        src = self.src_embed(src) * torch.sqrt(torch.tensor(self.d_model).float())\n",
    "        # print('src', src)\n",
    "        tgt = self.tgt_embed(tgt) * torch.sqrt(torch.tensor(self.d_model).float())\n",
    "        # print('tgt', tgt)\n",
    "        src = self.pos_encoder(src)\n",
    "        # print('src_pos', src)\n",
    "        tgt = self.pos_decoder(tgt)\n",
    "        # print('tgt_pos', tgt)\n",
    "        for layer in self.encoder:\n",
    "            src = layer(src) # src_mask\n",
    "        # print('src enc', src)\n",
    "        for layer in self.decoder:\n",
    "            tgt = layer(tgt, src, tgt_mask)\n",
    "        # print('tgt dec', tgt)\n",
    "        output = self.fc(tgt)\n",
    "        return output.to(device)\n",
    "\n",
    "    def generate_square_subsequent_mask(self, tgt):\n",
    "        sz = tgt.size(1)\n",
    "        mask = (torch.triu(torch.ones(sz, sz)) == 1).transpose(0, 1).to(device)\n",
    "        tgt_mask = mask.float().masked_fill_(mask == 0, -1e9).masked_fill_(mask == 1, float(0.0)).to(device)\n",
    "        # print(f'mask shape {mask.shape}')\n",
    "        # tgt_mask = (tgt != 0).unsqueeze(1).unsqueeze(3)\n",
    "        # seq_length = tgt.size(1)\n",
    "        # nopeak_mask = (1 - torch.triu(torch.ones(1, seq_length, seq_length), diagonal=1)).bool().to(device)\n",
    "        # tgt_mask = tgt_mask & nopeak_mask\n",
    "        return tgt_mask.to(device)\n",
    "\n",
    "class EncoderLayer(nn.Module):\n",
    "    def __init__(self, d_model, nhead):\n",
    "        super(EncoderLayer, self).__init__()\n",
    "        self.self_attn = MultiHeadAttention(d_model, nhead).to(device)\n",
    "        self.feed_forward = nn.Sequential(\n",
    "            nn.Linear(d_model, 2048).to(device),\n",
    "            nn.ReLU(),\n",
    "            nn.Linear(2048, d_model).to(device)\n",
    "        )\n",
    "        self.norm1 = nn.LayerNorm(d_model).to(device)\n",
    "        self.norm2 = nn.LayerNorm(d_model).to(device)\n",
    "\n",
    "    def forward(self, src, src_mask=None):\n",
    "        src2 = self.self_attn(src, src, src, mask=src_mask)\n",
    "        src = src + src2\n",
    "        src = self.norm1(src)\n",
    "        src2 = self.feed_forward(src)\n",
    "        src = src + src2\n",
    "        src = self.norm2(src)\n",
    "        return src.to(device)\n",
    "\n",
    "class DecoderLayer(nn.Module):\n",
    "    def __init__(self, d_model, nhead):\n",
    "        super(DecoderLayer, self).__init__()\n",
    "        self.self_attn = MultiHeadAttention(d_model, nhead).to(device)\n",
    "        self.src_attn = MultiHeadAttention(d_model, nhead).to(device)\n",
    "        self.feed_forward = nn.Sequential(\n",
    "            nn.Linear(d_model, 2048).to(device),\n",
    "            nn.ReLU(),\n",
    "            nn.Linear(2048, d_model).to(device)\n",
    "        )\n",
    "        self.norm1 = nn.LayerNorm(d_model).to(device)\n",
    "        self.norm2 = nn.LayerNorm(d_model).to(device)\n",
    "        self.norm3 = nn.LayerNorm(d_model).to(device)\n",
    "\n",
    "    def forward(self, tgt, src, tgt_mask, src_mask=None):\n",
    "        tgt2 = self.self_attn(tgt, tgt, tgt, mask=tgt_mask)\n",
    "        # print('tgt after self attn', tgt)\n",
    "        tgt = tgt + tgt2\n",
    "        tgt = self.norm1(tgt)\n",
    "        tgt2 = self.src_attn(tgt, src, src, mask=src_mask)\n",
    "        tgt = tgt + tgt2\n",
    "        tgt = self.norm2(tgt)\n",
    "        tgt2 = self.feed_forward(tgt)\n",
    "        tgt = tgt + tgt2\n",
    "        tgt = self.norm3(tgt)\n",
    "        return tgt.to(device)\n",
    "\n",
    "class PositionalEncoding(nn.Module):\n",
    "    def __init__(self, d_model, dropout=0.1, max_len=5000):\n",
    "        super(PositionalEncoding, self).__init__()\n",
    "        self.dropout = nn.Dropout(p=dropout)\n",
    "        pe = torch.zeros(max_len, d_model).to(device)\n",
    "        position = torch.arange(0, max_len, dtype=torch.float).unsqueeze(1).to(device)\n",
    "        div_term = torch.exp(torch.arange(0, d_model, 2).float() * (-math.log(10000.0) / d_model)).to(device)\n",
    "        pe[:, 0::2] = torch.sin(position * div_term)\n",
    "        pe[:, 1::2] = torch.cos(position * div_term)\n",
    "        pe = pe.unsqueeze(0).transpose(0, 1)\n",
    "        self.register_buffer('pe', pe)\n",
    "\n",
    "    def forward(self, x):\n",
    "        x = x + self.pe[:x.size(0), :]\n",
    "        return self.dropout(x).to(device)\n"
   ]
  },
  {
   "cell_type": "code",
   "execution_count": 25,
   "metadata": {},
   "outputs": [],
   "source": [
    "class Dataset(Dataset):\n",
    "    def __init__(self, data, vocab_en, vocab_fr):\n",
    "        self.data = data\n",
    "        self.vocab_en = vocab_en\n",
    "        self.vocab_fr = vocab_fr\n",
    "\n",
    "    def __len__(self):\n",
    "        return len(self.data)\n",
    "\n",
    "    def __getitem__(self, idx):\n",
    "        en, fr = self.data[idx]\n",
    "        en = [self.vocab_en[token] for token in tokenize_data([en])] + [self.vocab_en['<eos>']]\n",
    "        fr = [self.vocab_fr['<start>']] + [self.vocab_fr[token] for token in tokenize_data([fr], lang='french')] + [self.vocab_fr['<eos>']]\n",
    "        # print(en)\n",
    "        return torch.tensor(en), torch.tensor(fr)\n",
    "    \n",
    "    def collate_fn(self, batch):\n",
    "        en, fr = zip(*batch)\n",
    "        max_input_len = max([len(sentence) for sentence in en])\n",
    "        max_output_len = max([len(sentence) for sentence in fr])\n",
    "        max_len = max(max_input_len, max_output_len)\n",
    "        # print(f'max_len {max_len}')\n",
    "        en = [sentence.tolist() + [self.vocab_en['<pad>']] * (max_len - len(sentence)) for sentence in en]\n",
    "        fr = [sentence.tolist() + [self.vocab_fr['<pad>']] * (max_len - len(sentence)) for sentence in fr]\n",
    "        return torch.tensor(en), torch.tensor(fr)"
   ]
  },
  {
   "cell_type": "code",
   "execution_count": 26,
   "metadata": {},
   "outputs": [],
   "source": [
    "train_dataset = Dataset(train_data, vocab_en, vocab_fr)\n",
    "test_dataset = Dataset(test_data, vocab_en, vocab_fr)\n",
    "dev_dataset = Dataset(dev_data, vocab_en, vocab_fr)"
   ]
  },
  {
   "cell_type": "code",
   "execution_count": 27,
   "metadata": {},
   "outputs": [],
   "source": [
    "train_dl = DataLoader(train_dataset, batch_size=batch_size, shuffle=True, drop_last=True, collate_fn=train_dataset.collate_fn)\n",
    "test_dl = DataLoader(test_dataset, batch_size=batch_size, shuffle=True, drop_last=True, collate_fn=test_dataset.collate_fn)\n",
    "dev_dl = DataLoader(dev_dataset, batch_size=batch_size, shuffle=True, drop_last=True, collate_fn=dev_dataset.collate_fn)"
   ]
  },
  {
   "cell_type": "code",
   "execution_count": 29,
   "metadata": {},
   "outputs": [],
   "source": [
    "# define the model\n",
    "device = torch.device('cuda' if torch.cuda.is_available() else 'cpu')\n",
    "# device = torch.device('cpu')\n",
    "model = Transformer(input_size=len(vocab_en), output_size=len(vocab_fr))\n",
    "loss_fn = nn.CrossEntropyLoss()\n",
    "optimizer = torch.optim.Adam(model.parameters(), lr=0.001)\n",
    "epochs = 5\n",
    "model = model.to(device)"
   ]
  },
  {
   "cell_type": "code",
   "execution_count": 30,
   "metadata": {},
   "outputs": [],
   "source": [
    "def train_epoch(model, dl):\n",
    "    model.train()\n",
    "    total_loss = 0; i = 1\n",
    "    for en, fr in tqdm(dl):\n",
    "        en = en.to(device)\n",
    "        fr = fr.to(device)\n",
    "        optimizer.zero_grad()\n",
    "        output = model(en, fr[:, :-1])\n",
    "        output = output.transpose(1, 2)\n",
    "        # print(output)\n",
    "        loss = loss_fn(output, fr[:, 1:])\n",
    "        # print(f'Batch {i} loss {loss.item()}')\n",
    "        loss.backward()\n",
    "        optimizer.step()\n",
    "        total_loss += loss.item()\n",
    "    return total_loss / len(dl)\n",
    "\n",
    "def evaluate(model, dl):\n",
    "    model.eval()\n",
    "    total_loss = 0\n",
    "    for en, fr in tqdm(dl):\n",
    "        en = en.to(device)\n",
    "        fr = fr.to(device)\n",
    "        output = model(en, fr[:, :-1])\n",
    "        output = output.transpose(1, 2)\n",
    "        loss = loss_fn(output, fr[:, 1:])\n",
    "        total_loss += loss.item()\n",
    "    return total_loss / len(dl)\n",
    "\n",
    "def train(model, loss_fn, optimizer, dl, epochs):\n",
    "    model.optim = optimizer\n",
    "    model.loss_fn = loss_fn\n",
    "    for epoch in range(epochs):\n",
    "        print(f'Epoch {epoch + 1}/{epochs}', end=' ')\n",
    "        loss = train_epoch(model, dl)\n",
    "        print(f'Train loss: {loss:.4f}')\n",
    "        loss = evaluate(model, dl)\n",
    "        print(f'Validation loss: {loss:.4f}')"
   ]
  },
  {
   "cell_type": "code",
   "execution_count": 31,
   "metadata": {},
   "outputs": [
    {
     "name": "stdout",
     "output_type": "stream",
     "text": [
      "Epoch 1/5 "
     ]
    },
    {
     "name": "stderr",
     "output_type": "stream",
     "text": [
      "100%|██████████| 877/877 [04:00<00:00,  3.64it/s]\n"
     ]
    },
    {
     "name": "stdout",
     "output_type": "stream",
     "text": [
      "Train loss: 2.7111\n"
     ]
    },
    {
     "name": "stderr",
     "output_type": "stream",
     "text": [
      "  5%|▌         | 46/877 [00:04<01:24,  9.83it/s]\n"
     ]
    },
    {
     "ename": "KeyboardInterrupt",
     "evalue": "",
     "output_type": "error",
     "traceback": [
      "\u001b[0;31m---------------------------------------------------------------------------\u001b[0m",
      "\u001b[0;31mKeyboardInterrupt\u001b[0m                         Traceback (most recent call last)",
      "\u001b[1;32m/home/aryan/Documents/3-1/Advanced NLP/Assignment 3 - Transformers/a3.ipynb Cell 13\u001b[0m line \u001b[0;36m1\n\u001b[0;32m----> <a href='vscode-notebook-cell:/home/aryan/Documents/3-1/Advanced%20NLP/Assignment%203%20-%20Transformers/a3.ipynb#X15sZmlsZQ%3D%3D?line=0'>1</a>\u001b[0m train(model, loss_fn, optimizer, train_dl, epochs)\n",
      "\u001b[1;32m/home/aryan/Documents/3-1/Advanced NLP/Assignment 3 - Transformers/a3.ipynb Cell 13\u001b[0m line \u001b[0;36m3\n\u001b[1;32m     <a href='vscode-notebook-cell:/home/aryan/Documents/3-1/Advanced%20NLP/Assignment%203%20-%20Transformers/a3.ipynb#X15sZmlsZQ%3D%3D?line=34'>35</a>\u001b[0m loss \u001b[39m=\u001b[39m train_epoch(model, dl)\n\u001b[1;32m     <a href='vscode-notebook-cell:/home/aryan/Documents/3-1/Advanced%20NLP/Assignment%203%20-%20Transformers/a3.ipynb#X15sZmlsZQ%3D%3D?line=35'>36</a>\u001b[0m \u001b[39mprint\u001b[39m(\u001b[39mf\u001b[39m\u001b[39m'\u001b[39m\u001b[39mTrain loss: \u001b[39m\u001b[39m{\u001b[39;00mloss\u001b[39m:\u001b[39;00m\u001b[39m.4f\u001b[39m\u001b[39m}\u001b[39;00m\u001b[39m'\u001b[39m)\n\u001b[0;32m---> <a href='vscode-notebook-cell:/home/aryan/Documents/3-1/Advanced%20NLP/Assignment%203%20-%20Transformers/a3.ipynb#X15sZmlsZQ%3D%3D?line=36'>37</a>\u001b[0m loss \u001b[39m=\u001b[39m evaluate(model, dl)\n\u001b[1;32m     <a href='vscode-notebook-cell:/home/aryan/Documents/3-1/Advanced%20NLP/Assignment%203%20-%20Transformers/a3.ipynb#X15sZmlsZQ%3D%3D?line=37'>38</a>\u001b[0m \u001b[39mprint\u001b[39m(\u001b[39mf\u001b[39m\u001b[39m'\u001b[39m\u001b[39mValidation loss: \u001b[39m\u001b[39m{\u001b[39;00mloss\u001b[39m:\u001b[39;00m\u001b[39m.4f\u001b[39m\u001b[39m}\u001b[39;00m\u001b[39m'\u001b[39m)\n",
      "\u001b[1;32m/home/aryan/Documents/3-1/Advanced NLP/Assignment 3 - Transformers/a3.ipynb Cell 13\u001b[0m line \u001b[0;36m2\n\u001b[1;32m     <a href='vscode-notebook-cell:/home/aryan/Documents/3-1/Advanced%20NLP/Assignment%203%20-%20Transformers/a3.ipynb#X15sZmlsZQ%3D%3D?line=24'>25</a>\u001b[0m     output \u001b[39m=\u001b[39m output\u001b[39m.\u001b[39mtranspose(\u001b[39m1\u001b[39m, \u001b[39m2\u001b[39m)\n\u001b[1;32m     <a href='vscode-notebook-cell:/home/aryan/Documents/3-1/Advanced%20NLP/Assignment%203%20-%20Transformers/a3.ipynb#X15sZmlsZQ%3D%3D?line=25'>26</a>\u001b[0m     loss \u001b[39m=\u001b[39m loss_fn(output, fr[:, \u001b[39m1\u001b[39m:])\n\u001b[0;32m---> <a href='vscode-notebook-cell:/home/aryan/Documents/3-1/Advanced%20NLP/Assignment%203%20-%20Transformers/a3.ipynb#X15sZmlsZQ%3D%3D?line=26'>27</a>\u001b[0m     total_loss \u001b[39m+\u001b[39m\u001b[39m=\u001b[39m loss\u001b[39m.\u001b[39;49mitem()\n\u001b[1;32m     <a href='vscode-notebook-cell:/home/aryan/Documents/3-1/Advanced%20NLP/Assignment%203%20-%20Transformers/a3.ipynb#X15sZmlsZQ%3D%3D?line=27'>28</a>\u001b[0m \u001b[39mreturn\u001b[39;00m total_loss \u001b[39m/\u001b[39m \u001b[39mlen\u001b[39m(dl)\n",
      "\u001b[0;31mKeyboardInterrupt\u001b[0m: "
     ]
    }
   ],
   "source": [
    "train(model, loss_fn, optimizer, train_dl, epochs)"
   ]
  },
  {
   "cell_type": "code",
   "execution_count": 10,
   "metadata": {},
   "outputs": [],
   "source": [
    "idx2word_en = vocab_en.get_itos()\n",
    "idx2word_fr = vocab_fr.get_itos()"
   ]
  },
  {
   "cell_type": "code",
   "execution_count": 13,
   "metadata": {},
   "outputs": [],
   "source": [
    "# save model\n",
    "# torch.save(model.state_dict(), 'model.pt')"
   ]
  },
  {
   "cell_type": "code",
   "execution_count": null,
   "metadata": {},
   "outputs": [],
   "source": [
    "# loaded_model = Transformer(input_size=len(vocab_en), output_size=len(vocab_fr))\n",
    "# loaded_model.load_state_dict(torch.load('model.pt'))\n",
    "# loaded_model.eval()\n",
    "# with torch.no_grad():\n",
    "#     for en, fr in dev_dl:\n",
    "#         en = en.to(device)\n",
    "#         fr = fr.to(device)\n",
    "#         output = loaded_model(en, fr[:, :-1])\n",
    "#         output = output.transpose(1, 2)\n",
    "#         # print(output)\n",
    "#         loss = loss_fn(output, fr[:, 1:])\n",
    "#         print(f'Loss: {loss.item()}')\n",
    "        "
   ]
  },
  {
   "cell_type": "code",
   "execution_count": 117,
   "metadata": {},
   "outputs": [
    {
     "name": "stderr",
     "output_type": "stream",
     "text": [
      "100%|██████████| 40/40 [00:05<00:00,  7.20it/s]"
     ]
    },
    {
     "name": "stdout",
     "output_type": "stream",
     "text": [
      "Test loss: 2.3193\n"
     ]
    },
    {
     "name": "stderr",
     "output_type": "stream",
     "text": [
      "\n"
     ]
    }
   ],
   "source": [
    "model.eval()\n",
    "total_loss = 0; i = 1\n",
    "predictions = []; targets = []; bleu_scores = []; en_sentences = []\n",
    "with torch.no_grad():\n",
    "    for en, fr in tqdm(test_dl):\n",
    "        en = en.to(device)\n",
    "        fr = fr.to(device)\n",
    "        output = model(en, fr[:, :-1])\n",
    "        output = output.transpose(1, 2)\n",
    "        loss = loss_fn(output, fr[:, 1:])\n",
    "        total_loss += loss.item()\n",
    "        i += 1\n",
    "        output = output.argmax(dim=1)\n",
    "        # print(output)\n",
    "        # convert output to words\n",
    "        for i, sentence in enumerate(output):\n",
    "            tgt = fr[i]\n",
    "            tgt = [idx2word_fr[word.item()] for word in tgt[1:]]\n",
    "            tgt = ' '.join(tgt).split('<pad>')[0]\n",
    "            targets.append(word_tokenize(tgt))\n",
    "            # print('target: ', targets[-1])\n",
    "            en_sentence = en[i]\n",
    "            en_sentence = [idx2word_en[word.item()] for word in en_sentence]\n",
    "            en_sentence = ' '.join(en_sentence).split('<pad>')[0]\n",
    "            en_sentences.append(word_tokenize(en_sentence))\n",
    "            sentence = [idx2word_fr[word.item()] for word in sentence]\n",
    "            sentence = ' '.join(sentence).split('<pad>')[0]\n",
    "            predictions.append(word_tokenize(sentence))\n",
    "            bleu = sentence_bleu([targets[-1]], predictions[-1], smoothing_function=SmoothingFunction().method4)\n",
    "            # print(f'BLEU score: {bleu}')\n",
    "            bleu_scores.append(bleu)\n",
    "            # print('prediction: ', predictions[-1])\n",
    "            # break\n",
    "        # break\n",
    "print(f'Test loss: {total_loss / len(test_dl):.4f}')"
   ]
  },
  {
   "cell_type": "code",
   "execution_count": 109,
   "metadata": {},
   "outputs": [
    {
     "name": "stdout",
     "output_type": "stream",
     "text": [
      "0.7598356604576111\n",
      "0.7598356856515925\n"
     ]
    }
   ],
   "source": [
    "from torchtext.data.metrics import bleu_score\n",
    "a = ['The', 'cat', 'sat', 'on', 'the', 'mat']\n",
    "b = ['The', 'cat', 'sat', 'on', 'the', 'tat']\n",
    "print(bleu_score([a], [[b]]))\n",
    "print(sentence_bleu([b], a))"
   ]
  },
  {
   "cell_type": "code",
   "execution_count": 107,
   "metadata": {},
   "outputs": [
    {
     "data": {
      "image/png": "[encoded data removed]",
      "text/plain": [
       "<Figure size 640x480 with 1 Axes>"
      ]
     },
     "metadata": {},
     "output_type": "display_data"
    }
   ],
   "source": [
    "initial_training_losses = [2.7523, 2.3388, 2.1481, 1.9856, 1.8387]\n",
    "# plot the training loss\n",
    "import matplotlib.pyplot as plt\n",
    "plt.plot(initial_training_losses)\n",
    "plt.title('Training Loss')\n",
    "plt.xlabel('Epoch')\n",
    "plt.ylabel('Loss')\n",
    "plt.show()"
   ]
  },
  {
   "cell_type": "code",
   "execution_count": 108,
   "metadata": {},
   "outputs": [
    {
     "name": "stdout",
     "output_type": "stream",
     "text": [
      "['merci', '.', '<', 'eos', '>']\n",
      "['merci', '.', '<', 'eos', '>']\n"
     ]
    }
   ],
   "source": [
    "# find index with max bleu score\n",
    "max_bleu = max(bleu_scores)\n",
    "i = bleu_scores.index(max_bleu)\n",
    "bleu_scores[i]\n",
    "print(targets[i])\n",
    "print(predictions[i])"
   ]
  },
  {
   "cell_type": "code",
   "execution_count": 118,
   "metadata": {},
   "outputs": [],
   "source": [
    "# write the predictions, targets, and bleu scores to a file\n",
    "with open('test_bleu.txt', 'w') as f:\n",
    "    for i in range(len(predictions)):\n",
    "        pred = ' '.join(predictions[i])\n",
    "        tgt = ' '.join(en_sentences[i])\n",
    "        f.write(f'Sentence: {tgt}\\n')\n",
    "        f.write(f'Prediction: {pred}\\n')\n",
    "        f.write(f'BLEU score: {bleu_scores[i]}\\n\\n')"
   ]
  },
  {
   "cell_type": "code",
   "execution_count": 119,
   "metadata": {},
   "outputs": [
    {
     "name": "stderr",
     "output_type": "stream",
     "text": [
      "100%|██████████| 877/877 [02:00<00:00,  7.27it/s]\n"
     ]
    }
   ],
   "source": [
    "model.eval()\n",
    "i = 1\n",
    "predictions = []; targets = []; bleu_scores = []; en_sentences = []\n",
    "with torch.no_grad():\n",
    "    for en, fr in tqdm(train_dl):\n",
    "        en = en.to(device)\n",
    "        fr = fr.to(device)\n",
    "        output = model(en, fr[:, :-1])\n",
    "        output = output.transpose(1, 2)\n",
    "        i += 1\n",
    "        output = output.argmax(dim=1)\n",
    "        for i, sentence in enumerate(output):\n",
    "            tgt = fr[i]\n",
    "            tgt = [idx2word_fr[word.item()] for word in tgt[1:]]\n",
    "            tgt = ' '.join(tgt).split('<pad>')[0]\n",
    "            targets.append(word_tokenize(tgt))\n",
    "            en_sentence = en[i]\n",
    "            en_sentence = [idx2word_en[word.item()] for word in en_sentence]\n",
    "            en_sentence = ' '.join(en_sentence).split('<pad>')[0]\n",
    "            en_sentences.append(word_tokenize(en_sentence))\n",
    "            sentence = [idx2word_fr[word.item()] for word in sentence]\n",
    "            sentence = ' '.join(sentence).split('<pad>')[0]\n",
    "            predictions.append(word_tokenize(sentence))\n",
    "            bleu = sentence_bleu([targets[-1]], predictions[-1], smoothing_function=SmoothingFunction().method4)\n",
    "            bleu_scores.append(bleu)\n",
    "\n",
    "with open('train_bleu.txt', 'w') as f:\n",
    "    for i in range(len(predictions)):\n",
    "        pred = ' '.join(predictions[i])\n",
    "        tgt = ' '.join(en_sentences[i])\n",
    "        f.write(f'Sentence: {tgt}\\n')\n",
    "        f.write(f'Prediction: {pred}\\n')\n",
    "        f.write(f'BLEU score: {bleu_scores[i]}\\n\\n')"
   ]
  },
  {
   "cell_type": "code",
   "execution_count": 19,
   "metadata": {},
   "outputs": [
    {
     "name": "stdout",
     "output_type": "stream",
     "text": [
      "Learning rate: 0.01\n",
      "Epoch 1/2 "
     ]
    },
    {
     "name": "stderr",
     "output_type": "stream",
     "text": [
      "100%|██████████| 877/877 [04:05<00:00,  3.57it/s]\n"
     ]
    },
    {
     "name": "stdout",
     "output_type": "stream",
     "text": [
      "Train loss: 4.2987\n"
     ]
    },
    {
     "name": "stderr",
     "output_type": "stream",
     "text": [
      "100%|██████████| 27/27 [00:02<00:00, 10.07it/s]\n"
     ]
    },
    {
     "name": "stdout",
     "output_type": "stream",
     "text": [
      "Validation loss: 4.1568\n",
      "Epoch 2/2 "
     ]
    },
    {
     "name": "stderr",
     "output_type": "stream",
     "text": [
      "100%|██████████| 877/877 [04:07<00:00,  3.54it/s]\n"
     ]
    },
    {
     "name": "stdout",
     "output_type": "stream",
     "text": [
      "Train loss: 4.1964\n"
     ]
    },
    {
     "name": "stderr",
     "output_type": "stream",
     "text": [
      "100%|██████████| 27/27 [00:02<00:00, 10.06it/s]\n"
     ]
    },
    {
     "name": "stdout",
     "output_type": "stream",
     "text": [
      "Validation loss: 4.1486\n",
      "Learning rate: 0.001\n",
      "Epoch 1/2 "
     ]
    },
    {
     "name": "stderr",
     "output_type": "stream",
     "text": [
      "100%|██████████| 877/877 [04:06<00:00,  3.55it/s]\n"
     ]
    },
    {
     "name": "stdout",
     "output_type": "stream",
     "text": [
      "Train loss: 2.7195\n"
     ]
    },
    {
     "name": "stderr",
     "output_type": "stream",
     "text": [
      "100%|██████████| 27/27 [00:02<00:00, 10.04it/s]\n"
     ]
    },
    {
     "name": "stdout",
     "output_type": "stream",
     "text": [
      "Validation loss: 2.4879\n",
      "Epoch 2/2 "
     ]
    },
    {
     "name": "stderr",
     "output_type": "stream",
     "text": [
      "100%|██████████| 877/877 [04:07<00:00,  3.55it/s]\n"
     ]
    },
    {
     "name": "stdout",
     "output_type": "stream",
     "text": [
      "Train loss: 2.2674\n"
     ]
    },
    {
     "name": "stderr",
     "output_type": "stream",
     "text": [
      "100%|██████████| 27/27 [00:02<00:00, 10.04it/s]\n"
     ]
    },
    {
     "name": "stdout",
     "output_type": "stream",
     "text": [
      "Validation loss: 2.3775\n",
      "Learning rate: 0.0001\n",
      "Epoch 1/2 "
     ]
    },
    {
     "name": "stderr",
     "output_type": "stream",
     "text": [
      "100%|██████████| 877/877 [04:06<00:00,  3.56it/s]\n"
     ]
    },
    {
     "name": "stdout",
     "output_type": "stream",
     "text": [
      "Train loss: 3.0125\n"
     ]
    },
    {
     "name": "stderr",
     "output_type": "stream",
     "text": [
      "100%|██████████| 27/27 [00:02<00:00,  9.92it/s]\n"
     ]
    },
    {
     "name": "stdout",
     "output_type": "stream",
     "text": [
      "Validation loss: 2.6692\n",
      "Epoch 2/2 "
     ]
    },
    {
     "name": "stderr",
     "output_type": "stream",
     "text": [
      "100%|██████████| 877/877 [04:05<00:00,  3.57it/s]\n"
     ]
    },
    {
     "name": "stdout",
     "output_type": "stream",
     "text": [
      "Train loss: 2.4723\n"
     ]
    },
    {
     "name": "stderr",
     "output_type": "stream",
     "text": [
      "100%|██████████| 27/27 [00:02<00:00, 10.01it/s]"
     ]
    },
    {
     "name": "stdout",
     "output_type": "stream",
     "text": [
      "Validation loss: 2.4690\n"
     ]
    },
    {
     "name": "stderr",
     "output_type": "stream",
     "text": [
      "\n"
     ]
    }
   ],
   "source": [
    "### Hyperparameter Tuning ###\n",
    "# define the model\n",
    "device = torch.device('cuda' if torch.cuda.is_available() else 'cpu')\n",
    "# device = torch.device('cpu')\n",
    "loss_fn = nn.CrossEntropyLoss()\n",
    "lrs = [0.01, 0.001, 0.0001]\n",
    "epochs = 2\n",
    "\n",
    "def train_epoch(model, dl, optimizer):\n",
    "    model.train()\n",
    "    total_loss = 0; i = 1\n",
    "    for en, fr in tqdm(dl):\n",
    "        en = en.to(device)\n",
    "        fr = fr.to(device)\n",
    "        optimizer.zero_grad()\n",
    "        output = model(en, fr[:, :-1])\n",
    "        output = output.transpose(1, 2)\n",
    "        # print(output)\n",
    "        loss = loss_fn(output, fr[:, 1:])\n",
    "        # print(f'Batch {i} loss {loss.item()}')\n",
    "        loss.backward()\n",
    "        optimizer.step()\n",
    "        total_loss += loss.item()\n",
    "    return total_loss / len(dl)\n",
    "\n",
    "def evaluate(model, dl):\n",
    "    model.eval()\n",
    "    total_loss = 0\n",
    "    for en, fr in tqdm(dl):\n",
    "        en = en.to(device)\n",
    "        fr = fr.to(device)\n",
    "        output = model(en, fr[:, :-1])\n",
    "        output = output.transpose(1, 2)\n",
    "        loss = loss_fn(output, fr[:, 1:])\n",
    "        total_loss += loss.item()\n",
    "    return total_loss / len(dl)\n",
    "\n",
    "train_losses = {0.01:[],0.001:[],0.0001:[]}; val_losses = {0.01:[],0.001:[],0.0001:[]}\n",
    "for lr in lrs:\n",
    "    print(f'Learning rate: {lr}')\n",
    "    model = Transformer(input_size=len(vocab_en), output_size=len(vocab_fr))\n",
    "    optimizer = torch.optim.Adam(model.parameters(), lr=lr)\n",
    "    model = model.to(device)\n",
    "    for epoch in range(epochs):\n",
    "        print(f'Epoch {epoch + 1}/{epochs}', end=' ')\n",
    "        train_loss = train_epoch(model, train_dl, optimizer)\n",
    "        print(f'Train loss: {train_loss:.4f}')\n",
    "        val_loss = evaluate(model, dev_dl)\n",
    "        print(f'Validation loss: {val_loss:.4f}')\n",
    "        train_losses[lr].append(train_loss)\n",
    "        val_losses[lr].append(val_loss)"
   ]
  },
  {
   "cell_type": "code",
   "execution_count": 23,
   "metadata": {},
   "outputs": [
    {
     "data": {
      "image/png": "[encoded data removed]",
      "text/plain": [
       "<Figure size 640x480 with 1 Axes>"
      ]
     },
     "metadata": {},
     "output_type": "display_data"
    },
    {
     "data": {
      "image/png": "[encoded data removed]",
      "text/plain": [
       "<Figure size 640x480 with 1 Axes>"
      ]
     },
     "metadata": {},
     "output_type": "display_data"
    }
   ],
   "source": [
    "# write a function to take a list of losses and plot it\n",
    "import matplotlib.pyplot as plt\n",
    "def plot_losses(losses, lrs):\n",
    "    for lr in lrs:\n",
    "        plt.plot(losses[lr], label=f'lr={lr}')\n",
    "    plt.title('Val Loss')\n",
    "    plt.xlabel('Epoch')\n",
    "    plt.ylabel('Loss')\n",
    "    plt.legend()\n",
    "    plt.show()\n",
    "\n",
    "\n",
    "plot_losses(train_losses, lrs)\n",
    "plot_losses(val_losses, lrs)"
   ]
  },
  {
   "cell_type": "code",
   "execution_count": null,
   "metadata": {},
   "outputs": [],
   "source": []
  }
 ],
 "metadata": {
  "kernelspec": {
   "display_name": "Python 3",
   "language": "python",
   "name": "python3"
  },
  "language_info": {
   "codemirror_mode": {
    "name": "ipython",
    "version": 3
   },
   "file_extension": ".py",
   "mimetype": "text/x-python",
   "name": "python",
   "nbconvert_exporter": "python",
   "pygments_lexer": "ipython3",
   "version": "3.10.12"
  }
 },
 "nbformat": 4,
 "nbformat_minor": 2
}
